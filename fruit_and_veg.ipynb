{
 "cells": [
  {
   "cell_type": "code",
   "execution_count": 15,
   "metadata": {},
   "outputs": [],
   "source": [
    "from kaggle.api.kaggle_api_extended import KaggleApi\n",
    "import pandas as pd"
   ]
  },
  {
   "cell_type": "code",
   "execution_count": 16,
   "metadata": {},
   "outputs": [],
   "source": [
    "api = KaggleApi()\n",
    "api.authenticate()"
   ]
  },
  {
   "cell_type": "code",
   "execution_count": 17,
   "metadata": {},
   "outputs": [
    {
     "data": {
      "text/plain": [
       "False"
      ]
     },
     "execution_count": 17,
     "metadata": {},
     "output_type": "execute_result"
    }
   ],
   "source": [
    "api.dataset_download_file(\"vstacknocopyright/fruit-and-vegetable-prices\", \"Fruit Prices 2020.csv\")"
   ]
  },
  {
   "cell_type": "code",
   "execution_count": 18,
   "metadata": {},
   "outputs": [
    {
     "data": {
      "text/html": [
       "<div>\n",
       "<style scoped>\n",
       "    .dataframe tbody tr th:only-of-type {\n",
       "        vertical-align: middle;\n",
       "    }\n",
       "\n",
       "    .dataframe tbody tr th {\n",
       "        vertical-align: top;\n",
       "    }\n",
       "\n",
       "    .dataframe thead th {\n",
       "        text-align: right;\n",
       "    }\n",
       "</style>\n",
       "<table border=\"1\" class=\"dataframe\">\n",
       "  <thead>\n",
       "    <tr style=\"text-align: right;\">\n",
       "      <th></th>\n",
       "      <th>Fruit</th>\n",
       "      <th>Form</th>\n",
       "      <th>RetailPrice</th>\n",
       "      <th>Yield</th>\n",
       "      <th>CupEquivalentSize</th>\n",
       "      <th>CupEquivalentPrice</th>\n",
       "    </tr>\n",
       "  </thead>\n",
       "  <tbody>\n",
       "    <tr>\n",
       "      <th>0</th>\n",
       "      <td>Apples</td>\n",
       "      <td>Canned</td>\n",
       "      <td>1.06600</td>\n",
       "      <td>1.000</td>\n",
       "      <td>0.5401</td>\n",
       "      <td>0.57580</td>\n",
       "    </tr>\n",
       "    <tr>\n",
       "      <th>1</th>\n",
       "      <td>Apples</td>\n",
       "      <td>Fresh</td>\n",
       "      <td>1.51930</td>\n",
       "      <td>0.900</td>\n",
       "      <td>0.2425</td>\n",
       "      <td>0.40940</td>\n",
       "    </tr>\n",
       "    <tr>\n",
       "      <th>2</th>\n",
       "      <td>Apples</td>\n",
       "      <td>Juice</td>\n",
       "      <td>0.68285</td>\n",
       "      <td>1.000</td>\n",
       "      <td>8.0000</td>\n",
       "      <td>0.34140</td>\n",
       "    </tr>\n",
       "    <tr>\n",
       "      <th>3</th>\n",
       "      <td>Apricots</td>\n",
       "      <td>Canned</td>\n",
       "      <td>1.87525</td>\n",
       "      <td>0.825</td>\n",
       "      <td>0.4905</td>\n",
       "      <td>1.15525</td>\n",
       "    </tr>\n",
       "    <tr>\n",
       "      <th>4</th>\n",
       "      <td>Apricots</td>\n",
       "      <td>Dried</td>\n",
       "      <td>6.61880</td>\n",
       "      <td>1.000</td>\n",
       "      <td>0.1433</td>\n",
       "      <td>0.94850</td>\n",
       "    </tr>\n",
       "  </tbody>\n",
       "</table>\n",
       "</div>"
      ],
      "text/plain": [
       "      Fruit    Form  RetailPrice  Yield  CupEquivalentSize  CupEquivalentPrice\n",
       "0    Apples  Canned      1.06600  1.000             0.5401             0.57580\n",
       "1    Apples   Fresh      1.51930  0.900             0.2425             0.40940\n",
       "2    Apples   Juice      0.68285  1.000             8.0000             0.34140\n",
       "3  Apricots  Canned      1.87525  0.825             0.4905             1.15525\n",
       "4  Apricots   Dried      6.61880  1.000             0.1433             0.94850"
      ]
     },
     "execution_count": 18,
     "metadata": {},
     "output_type": "execute_result"
    }
   ],
   "source": [
    "df = pd.read_csv(\"Fruit%20Prices%202020.csv\")\n",
    "df[\"Fruit\"] = df[\"Fruit\"].apply(lambda x: x.split(\",\")[0])\n",
    "df = df.drop([\"RetailPriceUnit\", \"CupEquivalentUnit\"], axis=1)\n",
    "df = df.groupby([\"Fruit\", \"Form\"]).mean().reset_index()\n",
    "df.head()"
   ]
  }
 ],
 "metadata": {
  "kernelspec": {
   "display_name": "Python 3",
   "language": "python",
   "name": "python3"
  },
  "language_info": {
   "codemirror_mode": {
    "name": "ipython",
    "version": 3
   },
   "file_extension": ".py",
   "mimetype": "text/x-python",
   "name": "python",
   "nbconvert_exporter": "python",
   "pygments_lexer": "ipython3",
   "version": "3.11.3"
  },
  "orig_nbformat": 4
 },
 "nbformat": 4,
 "nbformat_minor": 2
}
