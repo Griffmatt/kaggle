{
 "cells": [
  {
   "cell_type": "code",
   "execution_count": 15,
   "metadata": {},
   "outputs": [],
   "source": [
    "from kaggle.api.kaggle_api_extended import KaggleApi\n",
    "import pandas as pd\n",
    "import kaggle"
   ]
  },
  {
   "cell_type": "code",
   "execution_count": 31,
   "metadata": {},
   "outputs": [],
   "source": [
    "api = KaggleApi()\n",
    "api.authenticate()\n"
   ]
  },
  {
   "cell_type": "code",
   "execution_count": 32,
   "metadata": {},
   "outputs": [
    {
     "data": {
      "text/plain": [
       "True"
      ]
     },
     "execution_count": 32,
     "metadata": {},
     "output_type": "execute_result"
    }
   ],
   "source": [
    "api.dataset_download_file(\"parsapzadeh/land-mines\", \"Mine_Dataset.csv\")"
   ]
  },
  {
   "cell_type": "code",
   "execution_count": 61,
   "metadata": {},
   "outputs": [
    {
     "data": {
      "text/html": [
       "<div>\n",
       "<style scoped>\n",
       "    .dataframe tbody tr th:only-of-type {\n",
       "        vertical-align: middle;\n",
       "    }\n",
       "\n",
       "    .dataframe tbody tr th {\n",
       "        vertical-align: top;\n",
       "    }\n",
       "\n",
       "    .dataframe thead tr th {\n",
       "        text-align: left;\n",
       "    }\n",
       "</style>\n",
       "<table border=\"1\" class=\"dataframe\">\n",
       "  <thead>\n",
       "    <tr>\n",
       "      <th></th>\n",
       "      <th>Mine Type</th>\n",
       "      <th colspan=\"2\" halign=\"left\">Voltage</th>\n",
       "      <th colspan=\"2\" halign=\"left\">High</th>\n",
       "      <th colspan=\"2\" halign=\"left\">Soil Type</th>\n",
       "    </tr>\n",
       "    <tr>\n",
       "      <th></th>\n",
       "      <th></th>\n",
       "      <th>mean</th>\n",
       "      <th>median</th>\n",
       "      <th>mean</th>\n",
       "      <th>median</th>\n",
       "      <th>mean</th>\n",
       "      <th>median</th>\n",
       "    </tr>\n",
       "  </thead>\n",
       "  <tbody>\n",
       "    <tr>\n",
       "      <th>0</th>\n",
       "      <td>1</td>\n",
       "      <td>0.296463</td>\n",
       "      <td>0.296586</td>\n",
       "      <td>0.495519</td>\n",
       "      <td>0.454545</td>\n",
       "      <td>0.492958</td>\n",
       "      <td>0.4</td>\n",
       "    </tr>\n",
       "    <tr>\n",
       "      <th>1</th>\n",
       "      <td>2</td>\n",
       "      <td>0.721123</td>\n",
       "      <td>0.714501</td>\n",
       "      <td>0.487013</td>\n",
       "      <td>0.454545</td>\n",
       "      <td>0.508571</td>\n",
       "      <td>0.6</td>\n",
       "    </tr>\n",
       "    <tr>\n",
       "      <th>2</th>\n",
       "      <td>3</td>\n",
       "      <td>0.402408</td>\n",
       "      <td>0.371601</td>\n",
       "      <td>0.527548</td>\n",
       "      <td>0.545455</td>\n",
       "      <td>0.496970</td>\n",
       "      <td>0.5</td>\n",
       "    </tr>\n",
       "    <tr>\n",
       "      <th>3</th>\n",
       "      <td>4</td>\n",
       "      <td>0.345365</td>\n",
       "      <td>0.336858</td>\n",
       "      <td>0.506887</td>\n",
       "      <td>0.545455</td>\n",
       "      <td>0.503030</td>\n",
       "      <td>0.5</td>\n",
       "    </tr>\n",
       "    <tr>\n",
       "      <th>4</th>\n",
       "      <td>5</td>\n",
       "      <td>0.379598</td>\n",
       "      <td>0.362537</td>\n",
       "      <td>0.530070</td>\n",
       "      <td>0.545455</td>\n",
       "      <td>0.516923</td>\n",
       "      <td>0.6</td>\n",
       "    </tr>\n",
       "  </tbody>\n",
       "</table>\n",
       "</div>"
      ],
      "text/plain": [
       "  Mine Type   Voltage                High           Soil Type       \n",
       "                 mean    median      mean    median      mean median\n",
       "0         1  0.296463  0.296586  0.495519  0.454545  0.492958    0.4\n",
       "1         2  0.721123  0.714501  0.487013  0.454545  0.508571    0.6\n",
       "2         3  0.402408  0.371601  0.527548  0.545455  0.496970    0.5\n",
       "3         4  0.345365  0.336858  0.506887  0.545455  0.503030    0.5\n",
       "4         5  0.379598  0.362537  0.530070  0.545455  0.516923    0.6"
      ]
     },
     "execution_count": 61,
     "metadata": {},
     "output_type": "execute_result"
    }
   ],
   "source": [
    "df = pd.read_csv(\"./Mine_Dataset.csv\")\n",
    "\n",
    "df = df.rename(columns={\"V\": \"Voltage\", \"H\": \"High\", \"S\": \"Soil Type\", \"M\": \"Mine Type\"})\n",
    "df.groupby([\"Mine Type\"]).agg(['mean', 'median']).reset_index()"
   ]
  }
 ],
 "metadata": {
  "kernelspec": {
   "display_name": "Python 3",
   "language": "python",
   "name": "python3"
  },
  "language_info": {
   "codemirror_mode": {
    "name": "ipython",
    "version": 3
   },
   "file_extension": ".py",
   "mimetype": "text/x-python",
   "name": "python",
   "nbconvert_exporter": "python",
   "pygments_lexer": "ipython3",
   "version": "3.11.3"
  },
  "orig_nbformat": 4
 },
 "nbformat": 4,
 "nbformat_minor": 2
}
